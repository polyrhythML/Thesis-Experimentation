{
 "cells": [
  {
   "cell_type": "code",
   "execution_count": 1,
   "id": "3d801644",
   "metadata": {},
   "outputs": [
    {
     "name": "stdout",
     "output_type": "stream",
     "text": [
      "WARNING:tensorflow:From /Users/amit1.bhatti/opt/anaconda3/envs/trac-2/lib/python3.7/site-packages/tensorflow/python/compat/v2_compat.py:107: disable_resource_variables (from tensorflow.python.ops.variable_scope) is deprecated and will be removed in a future version.\n",
      "Instructions for updating:\n",
      "non-resource variables are not supported in the long term\n",
      "WARNING:tensorflow:From /Users/amit1.bhatti/opt/anaconda3/envs/trac-2/lib/python3.7/site-packages/tensorflow/python/util/dispatch.py:1082: calling l2_normalize (from tensorflow.python.ops.nn_impl) with dim is deprecated and will be removed in a future version.\n",
      "Instructions for updating:\n",
      "dim is deprecated, use axis instead\n"
     ]
    },
    {
     "name": "stderr",
     "output_type": "stream",
     "text": [
      "2022-05-29 14:20:29.791224: I tensorflow/core/platform/cpu_feature_guard.cc:193] This TensorFlow binary is optimized with oneAPI Deep Neural Network Library (oneDNN) to use the following CPU instructions in performance-critical operations:  AVX2 FMA\n",
      "To enable them in other operations, rebuild TensorFlow with the appropriate compiler flags.\n",
      "2022-05-29 14:20:30.227837: I tensorflow/compiler/mlir/mlir_graph_optimization_pass.cc:354] MLIR V1 optimization pass is not enabled\n"
     ]
    },
    {
     "name": "stdout",
     "output_type": "stream",
     "text": [
      "2.016 seconds to transform 1 examples\n"
     ]
    }
   ],
   "source": [
    "from encoder import Model\n",
    "\n",
    "model = Model()\n",
    "text = ['demo!']\n",
    "text_features = model.transform(text)"
   ]
  },
  {
   "cell_type": "code",
   "execution_count": 2,
   "id": "e11d75da",
   "metadata": {},
   "outputs": [
    {
     "name": "stdout",
     "output_type": "stream",
     "text": [
      "[[ 0.01649155 -0.35397872  0.03778309 ...  0.37990984  0.08462575\n",
      "  -0.04763201]]\n"
     ]
    }
   ],
   "source": [
    "print(text_features)"
   ]
  },
  {
   "cell_type": "code",
   "execution_count": 10,
   "id": "d6218fd0",
   "metadata": {},
   "outputs": [
    {
     "name": "stdout",
     "output_type": "stream",
     "text": [
      "1.459 seconds to transform 1 examples\n"
     ]
    }
   ],
   "source": [
    "text = ['this is good']\n",
    "text_features = model.transform(text)"
   ]
  },
  {
   "cell_type": "code",
   "execution_count": 17,
   "id": "92c071ca",
   "metadata": {},
   "outputs": [
    {
     "data": {
      "text/plain": [
       "-0.006195208"
      ]
     },
     "execution_count": 17,
     "metadata": {},
     "output_type": "execute_result"
    }
   ],
   "source": [
    "np.mean(text_features)"
   ]
  },
  {
   "cell_type": "code",
   "execution_count": null,
   "id": "0d465204",
   "metadata": {},
   "outputs": [],
   "source": []
  }
 ],
 "metadata": {
  "kernelspec": {
   "display_name": "Python 3 (ipykernel)",
   "language": "python",
   "name": "python3"
  },
  "language_info": {
   "codemirror_mode": {
    "name": "ipython",
    "version": 3
   },
   "file_extension": ".py",
   "mimetype": "text/x-python",
   "name": "python",
   "nbconvert_exporter": "python",
   "pygments_lexer": "ipython3",
   "version": "3.7.11"
  }
 },
 "nbformat": 4,
 "nbformat_minor": 5
}
